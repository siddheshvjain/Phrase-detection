{
 "cells": [
  {
   "cell_type": "markdown",
   "metadata": {},
   "source": [
    "# Task \n"
   ]
  },
  {
   "cell_type": "markdown",
   "metadata": {},
   "source": [
    "# Importing  packages"
   ]
  },
  {
   "cell_type": "code",
   "execution_count": 14,
   "metadata": {},
   "outputs": [],
   "source": [
    "import nltk\n",
    "import csv\n",
    "import pandas as pd\n",
    "import numpy as np"
   ]
  },
  {
   "cell_type": "code",
   "execution_count": 15,
   "metadata": {},
   "outputs": [],
   "source": [
    "# Reading Training file.\n",
    "data = pd.read_csv(\"training_data.tsv\", delimiter = '\\t', encoding = 'utf-8')"
   ]
  },
  {
   "cell_type": "code",
   "execution_count": 16,
   "metadata": {},
   "outputs": [
    {
     "data": {
      "text/plain": [
       "9819"
      ]
     },
     "execution_count": 16,
     "metadata": {},
     "output_type": "execute_result"
    }
   ],
   "source": [
    "len(data)"
   ]
  },
  {
   "cell_type": "code",
   "execution_count": 17,
   "metadata": {},
   "outputs": [
    {
     "data": {
      "text/plain": [
       "'And a reminder tomorrow at 11.30 am to go through basic codings and share markets.'"
      ]
     },
     "execution_count": 17,
     "metadata": {},
     "output_type": "execute_result"
    }
   ],
   "source": [
    "# Checking out any random sentence from the training data-set\n",
    "sentence = data['sent'][27]\n",
    "sentence"
   ]
  },
  {
   "cell_type": "code",
   "execution_count": 19,
   "metadata": {},
   "outputs": [
    {
     "name": "stdout",
     "output_type": "stream",
     "text": [
      "TEXTBLOB\n",
      "basic codings\n",
      "share markets\n"
     ]
    }
   ],
   "source": [
    "from textblob import TextBlob\n",
    "\n",
    "# Textblob has ready-made function to extract noun-phrases.\n",
    "print (\"TEXTBLOB\")\n",
    "blob = TextBlob(sentence)\n",
    "\n",
    "for np in blob.noun_phrases:\n",
    "    print (np)\n",
    "    \n"
   ]
  },
  {
   "cell_type": "code",
   "execution_count": 20,
   "metadata": {},
   "outputs": [
    {
     "data": {
      "text/plain": [
       "['And',\n",
       " 'a',\n",
       " 'reminder',\n",
       " 'tomorrow',\n",
       " 'at',\n",
       " '11.30',\n",
       " 'am',\n",
       " 'to',\n",
       " 'go',\n",
       " 'through',\n",
       " 'basic',\n",
       " 'codings',\n",
       " 'and',\n",
       " 'share',\n",
       " 'markets',\n",
       " '.']"
      ]
     },
     "execution_count": 20,
     "metadata": {},
     "output_type": "execute_result"
    }
   ],
   "source": [
    "# Tokenizing sentence into individual words\n",
    "tokens = nltk.word_tokenize(sentence)\n",
    "tokens"
   ]
  },
  {
   "cell_type": "code",
   "execution_count": 22,
   "metadata": {},
   "outputs": [
    {
     "data": {
      "text/plain": [
       "[('And', 'CC'),\n",
       " ('a', 'DT'),\n",
       " ('reminder', 'NN'),\n",
       " ('tomorrow', 'NN'),\n",
       " ('at', 'IN'),\n",
       " ('11.30', 'CD'),\n",
       " ('am', 'VBP'),\n",
       " ('to', 'TO'),\n",
       " ('go', 'VB'),\n",
       " ('through', 'IN'),\n",
       " ('basic', 'JJ'),\n",
       " ('codings', 'NNS'),\n",
       " ('and', 'CC'),\n",
       " ('share', 'NN'),\n",
       " ('markets', 'NNS'),\n",
       " ('.', '.')]"
      ]
     },
     "execution_count": 22,
     "metadata": {},
     "output_type": "execute_result"
    }
   ],
   "source": [
    "#for each word a tag is assinged\n",
    "tagged = nltk.pos_tag(tokens)\n",
    "tagged"
   ]
  },
  {
   "cell_type": "code",
   "execution_count": 23,
   "metadata": {},
   "outputs": [
    {
     "data": {
      "text/plain": [
       "['reminder', 'tomorrow', 'am', 'go', 'codings', 'share', 'markets']"
      ]
     },
     "execution_count": 23,
     "metadata": {},
     "output_type": "execute_result"
    }
   ],
   "source": [
    "# Nouns and Verb type words can be considered as \"important words\"\n",
    "Imp_words = [w[0] for w in tagged if w[1].startswith('N') or w[1].startswith('V')]\n",
    "Imp_words"
   ]
  },
  {
   "cell_type": "markdown",
   "metadata": {},
   "source": [
    "# Possible n-grams for a statement."
   ]
  },
  {
   "cell_type": "code",
   "execution_count": 25,
   "metadata": {},
   "outputs": [
    {
     "name": "stdout",
     "output_type": "stream",
     "text": [
      "[('And',), ('a',), ('reminder',), ('tomorrow',), ('at',), ('11.30',), ('am',), ('to',), ('go',), ('through',), ('basic',), ('codings',), ('and',), ('share',), ('markets',), ('.',)] \n",
      "\n",
      "[('And', 'a'), ('a', 'reminder'), ('reminder', 'tomorrow'), ('tomorrow', 'at'), ('at', '11.30'), ('11.30', 'am'), ('am', 'to'), ('to', 'go'), ('go', 'through'), ('through', 'basic'), ('basic', 'codings'), ('codings', 'and'), ('and', 'share'), ('share', 'markets'), ('markets', '.')] \n",
      "\n",
      "[('And', 'a', 'reminder'), ('a', 'reminder', 'tomorrow'), ('reminder', 'tomorrow', 'at'), ('tomorrow', 'at', '11.30'), ('at', '11.30', 'am'), ('11.30', 'am', 'to'), ('am', 'to', 'go'), ('to', 'go', 'through'), ('go', 'through', 'basic'), ('through', 'basic', 'codings'), ('basic', 'codings', 'and'), ('codings', 'and', 'share'), ('and', 'share', 'markets'), ('share', 'markets', '.')] \n",
      "\n",
      "[('And', 'a', 'reminder', 'tomorrow'), ('a', 'reminder', 'tomorrow', 'at'), ('reminder', 'tomorrow', 'at', '11.30'), ('tomorrow', 'at', '11.30', 'am'), ('at', '11.30', 'am', 'to'), ('11.30', 'am', 'to', 'go'), ('am', 'to', 'go', 'through'), ('to', 'go', 'through', 'basic'), ('go', 'through', 'basic', 'codings'), ('through', 'basic', 'codings', 'and'), ('basic', 'codings', 'and', 'share'), ('codings', 'and', 'share', 'markets'), ('and', 'share', 'markets', '.')] \n",
      "\n",
      "[('And', 'a', 'reminder', 'tomorrow', 'at'), ('a', 'reminder', 'tomorrow', 'at', '11.30'), ('reminder', 'tomorrow', 'at', '11.30', 'am'), ('tomorrow', 'at', '11.30', 'am', 'to'), ('at', '11.30', 'am', 'to', 'go'), ('11.30', 'am', 'to', 'go', 'through'), ('am', 'to', 'go', 'through', 'basic'), ('to', 'go', 'through', 'basic', 'codings'), ('go', 'through', 'basic', 'codings', 'and'), ('through', 'basic', 'codings', 'and', 'share'), ('basic', 'codings', 'and', 'share', 'markets'), ('codings', 'and', 'share', 'markets', '.')] \n",
      "\n"
     ]
    }
   ],
   "source": [
    "from nltk.util import ngrams\n",
    "\n",
    "n=5\n",
    "for i in range(1,n+1):\n",
    "    output = list(ngrams(tokens, i))\n",
    "    print (output,\"\\n\")"
   ]
  },
  {
   "cell_type": "code",
   "execution_count": 27,
   "metadata": {},
   "outputs": [],
   "source": [
    "# Function which takes a sentence as an input and returns phrase\n",
    "\n",
    "def calculate(sentence):\n",
    "    \n",
    "    words = nltk.word_tokenize(sentence)\n",
    "    nltk.pos_tag(words)\n",
    "    \n",
    "    # defining a chunk grammar,indicating how sentences should be chunked. \n",
    "    \n",
    "    grammar = \"NP: {<VB.*>?<RB>?<PRP.*>?<IN>?<DT>?<JJ.*>*<NN.*>+}\"\n",
    "    \n",
    "    # we create a chunk parser\n",
    "    parser = nltk.RegexpParser(grammar)\n",
    "    \n",
    "    # Test it \n",
    "    t = parser.parse(nltk.pos_tag(words))\n",
    "    \n",
    "    # Result is a tree \n",
    "    a = [s for s in t.subtrees() if s.label() == \"NP\"]\n",
    "    \n",
    "    c = []\n",
    "    num = []\n",
    "    \n",
    "    # don't consider here as it is not there in training\n",
    "    key  = [\"monday\",\"tuesday\", \"wednesday\", \"thursday\",\"friday\",\"saturday\",\"sunday\",\"today\",\"tomorrow\",\"yesterday\", \"reminder\", \"remind\", \"th\", \"pm\",\"am\"]\n",
    "    \n",
    "    for i in range(len(a)):\n",
    "        count=0\n",
    "        phrase = \"\"\n",
    "        for j in range(len(a[i])):\n",
    "            if a[i][j][0].lower() in key:\n",
    "                phrase = phrase\n",
    "            else :\n",
    "                phrase = phrase + str(a[i][j][0]) + \" \"\n",
    "                count = count+1\n",
    "        c.append(phrase)\n",
    "        num.append(count)\n",
    "        #print (c)\n",
    "        #print (num)\n",
    "    \n",
    "    if(c==[] or max(num)<=1):\n",
    "        return \"Not Found\"\n",
    "    else :\n",
    "        maxi = max(num)\n",
    "        for i in range(len(num)):\n",
    "            if(num[i]==maxi):\n",
    "                return c[i].rstrip()"
   ]
  },
  {
   "cell_type": "markdown",
   "metadata": {},
   "source": [
    "### Test the function"
   ]
  },
  {
   "cell_type": "code",
   "execution_count": 28,
   "metadata": {},
   "outputs": [
    {
     "name": "stdout",
     "output_type": "stream",
     "text": [
      "And a reminder tomorrow at 11.30 am to go through basic codings and share markets. \n",
      "\n",
      "Phrase  :    go through basic codings\n"
     ]
    }
   ],
   "source": [
    "print(sentence,\"\\n\") \n",
    "print(\"Phrase  :   \", calculate(sentence))"
   ]
  },
  {
   "cell_type": "markdown",
   "metadata": {},
   "source": [
    "### Read the given file"
   ]
  },
  {
   "cell_type": "code",
   "execution_count": 29,
   "metadata": {},
   "outputs": [
    {
     "name": "stdout",
     "output_type": "stream",
     "text": [
      "Please remind me after 2 .00 pm for today\n"
     ]
    }
   ],
   "source": [
    "# Reading file line by line \n",
    "with open(\"eval_data.txt\", 'r+') as f:\n",
    "    lines = [line.rstrip('\\n') for line in f]\n",
    "    \n",
    "print (lines[67])"
   ]
  },
  {
   "cell_type": "markdown",
   "metadata": {},
   "source": [
    "### Create new file 'result.txt' to store result"
   ]
  },
  {
   "cell_type": "code",
   "execution_count": 30,
   "metadata": {},
   "outputs": [],
   "source": [
    "with open('result.csv', mode='w', newline='') as csv_file:\n",
    "    fieldnames = ['sent', 'label']\n",
    "    writer = csv.DictWriter(csv_file, fieldnames=fieldnames)\n",
    "    \n",
    "    writer.writeheader()\n",
    "    for i in range(len(lines)):\n",
    "        writer.writerow({'sent':lines[i],'label': calculate(lines[i])})"
   ]
  },
  {
   "cell_type": "markdown",
   "metadata": {},
   "source": [
    "### Check Accuracy"
   ]
  },
  {
   "cell_type": "code",
   "execution_count": 32,
   "metadata": {},
   "outputs": [
    {
     "name": "stdout",
     "output_type": "stream",
     "text": [
      "Accuracy :  31.79549852327121 %\n"
     ]
    }
   ],
   "source": [
    "with open('result.csv', mode='w', newline='', encoding = 'utf-8') as csv_file:\n",
    "    fieldnames = ['sent', 'Given_label', 'Predicted_label']\n",
    "    writer = csv.DictWriter(csv_file, fieldnames=fieldnames)\n",
    "    \n",
    "    writer.writeheader()\n",
    "    count = 0\n",
    "    for i in range(len(data)):\n",
    "        writer.writerow({'sent':data['sent'][i], 'Given_label':data['label'][i], 'Predicted_label':calculate(str(data['sent'][i]))})\n",
    "        \n",
    "        if str(data['label'][i]) == calculate(str(data['sent'][i])):\n",
    "            count = count+1\n",
    "            \n",
    "print (\"Accuracy : \", (count/len(data))*100, \"%\")"
   ]
  },
  {
   "cell_type": "code",
   "execution_count": null,
   "metadata": {},
   "outputs": [],
   "source": []
  }
 ],
 "metadata": {
  "kernelspec": {
   "display_name": "Python 3",
   "language": "python",
   "name": "python3"
  },
  "language_info": {
   "codemirror_mode": {
    "name": "ipython",
    "version": 3
   },
   "file_extension": ".py",
   "mimetype": "text/x-python",
   "name": "python",
   "nbconvert_exporter": "python",
   "pygments_lexer": "ipython3",
   "version": "3.7.4"
  }
 },
 "nbformat": 4,
 "nbformat_minor": 2
}
